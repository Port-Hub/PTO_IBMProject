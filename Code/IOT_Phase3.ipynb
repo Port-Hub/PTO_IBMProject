{
 "cells": [
  {
   "cell_type": "markdown",
   "metadata": {},
   "source": [
    "#### List of IoT Sensors:\n",
    "\n",
    "- GPS Sensor: To track the real-time location of the vehicle.\n",
    "- Passenger Counting Sensor: To count the number of passengers entering and exiting the vehicle.\n",
    "- Internet Connectivity Module: Cellular or Wi-Fi module to enable communication with the transit information platform."
   ]
  },
  {
   "cell_type": "markdown",
   "metadata": {},
   "source": [
    "#### Python Script:"
   ]
  },
  {
   "cell_type": "markdown",
   "metadata": {},
   "source": [
    "- The python script is used to simulate the IoT sensors and generate the data.\n",
    "\n",
    "##### To connect to the MQTT Broker:\n",
    "- Start the MQTT Broker on the local machine.\n",
    "- Run the python script to connect to the MQTT Broker.\n",
    "- The python script will publish the data to the MQTT Broker.\n",
    "- Subscribe to the MQTT Broker to receive the data.\n",
    "- Command : `mosquitto_sub -t pto_data -d -h localhost`"
   ]
  },
  {
   "cell_type": "markdown",
   "metadata": {},
   "source": [
    "##### Fetch Data from Arduino using MQTT Broker and run Server with Flask:"
   ]
  },
  {
   "cell_type": "code",
   "execution_count": 5,
   "metadata": {},
   "outputs": [
    {
     "name": "stdout",
     "output_type": "stream",
     "text": [
      "Subscribed to topic: pto_data\n",
      " * Serving Flask app 'PTO_Backend'\n",
      " * Debug mode: off\n"
     ]
    },
    {
     "name": "stderr",
     "output_type": "stream",
     "text": [
      "\u001b[31m\u001b[1mWARNING: This is a development server. Do not use it in a production deployment. Use a production WSGI server instead.\u001b[0m\n",
      " * Running on http://127.0.0.1:5500\n",
      "\u001b[33mPress CTRL+C to quit\u001b[0m\n"
     ]
    }
   ],
   "source": [
    "import json\n",
    "import paho.mqtt.client as mqtt\n",
    "from flask import Flask, render_template, jsonify\n",
    "from flask_cors import CORS\n",
    "\n",
    "app = Flask(\"PTO_Backend\")\n",
    "CORS(app)\n",
    "\n",
    "data = {}  # Initialize data variable\n",
    "\n",
    "def on_message(client, userdata, message):\n",
    "    global data\n",
    "    data = json.loads(message.payload.decode(\"utf-8\"))\n",
    "    print(\"Received message:\", data)\n",
    "\n",
    "mqtt_client = mqtt.Client(protocol=mqtt.MQTTv5)\n",
    "mqtt_client.on_message = on_message\n",
    "\n",
    "try:\n",
    "    mqtt_client.connect(\"192.168.29.170\", 1883)\n",
    "    topic = \"pto_data\"\n",
    "    mqtt_client.subscribe(topic)\n",
    "    print(\"Subscribed to topic:\", topic)\n",
    "    mqtt_client.loop_start()  # Start the MQTT client loop\n",
    "\n",
    "except Exception as e:\n",
    "    print(f\"Error: {str(e)}\")\n",
    "    mqtt_client.disconnect()\n",
    "\n",
    "@app.route('/')\n",
    "def index():\n",
    "    return render_template('index.html')\n",
    "\n",
    "@app.route('/data', methods=['GET'])\n",
    "def get_data():\n",
    "    return jsonify(data)\n",
    "\n",
    "if __name__ == \"__main__\":\n",
    "    app.run(port=5500, threaded=True)"
   ]
  }
 ],
 "metadata": {
  "kernelspec": {
   "display_name": "Python 3",
   "language": "python",
   "name": "python3"
  },
  "language_info": {
   "codemirror_mode": {
    "name": "ipython",
    "version": 3
   },
   "file_extension": ".py",
   "mimetype": "text/x-python",
   "name": "python",
   "nbconvert_exporter": "python",
   "pygments_lexer": "ipython3",
   "version": "3.11.6"
  }
 },
 "nbformat": 4,
 "nbformat_minor": 2
}
