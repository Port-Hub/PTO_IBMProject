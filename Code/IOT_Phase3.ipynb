{
 "cells": [
  {
   "cell_type": "markdown",
   "metadata": {},
   "source": [
    "#### List of IoT Sensors:\n",
    "\n",
    "- GPS Sensor: To track the real-time location of the vehicle.\n",
    "- Passenger Counting Sensor: To count the number of passengers entering and exiting the vehicle.\n",
    "- Internet Connectivity Module: Cellular or Wi-Fi module to enable communication with the transit information platform."
   ]
  },
  {
   "cell_type": "markdown",
   "metadata": {},
   "source": [
    "#### Arduino Code\n",
    "\n",
    "- The Arduino code is written in C++ and is uploaded to the Arduino board.\n",
    "- The code is responsible for reading the data from the sensors and sending it from the Arduino board via the serial port.\n",
    "- This code is not complete for obtaining the real-time location of the vehicle and the number of passengers entering and exiting the vehicle.\n",
    "- The GPS and Passenger Counting sensors are not initialized in the code.\n",
    "\n",
    "\n",
    "```\n",
    "#include<ArduinoJson.h>\n",
    "\n",
    "StaticJsonDocument<200> doc;\n",
    "GPS gps;\n",
    "PassengerCounter pc;\n",
    "void setup() {\n",
    "  Serial.begin(9600);\n",
    "  gps.begin();\n",
    "  pc.begin();\n",
    "}\n",
    "void loop() {\n",
    "    float lat = gps.getLatitude();\n",
    "    float lon = gps.getLongitude();\n",
    "    int pasin = pc.getPassengerIn();\n",
    "    int pasout = pc.getPassengerOut();\n",
    "    if(Serial.available() > 0) {\n",
    "        char req = Serial.read();\n",
    "        if(req == 'L') {\n",
    "            doc.clear();\n",
    "            JsonObject loc = doc.createNestedObject(\"location\");\n",
    "            loc[\"latitude\"] = lat;\n",
    "            loc[\"longitude\"] = lon;\n",
    "            serializeJson(doc, Serial);\n",
    "            Serial.println();\n",
    "        }\n",
    "        if(req == 'R') {\n",
    "            doc.clear();\n",
    "            JsonObject ridership = doc.createNestedObject(\"ridership\");\n",
    "            ridership[\"in\"] = pasin;\n",
    "            ridership[\"out\"] = pasout;\n",
    "            serializeJson(doc, Serial);\n",
    "            Serial.println();\n",
    "        }\n",
    "    }\n",
    "}\n",
    "```"
   ]
  },
  {
   "cell_type": "markdown",
   "metadata": {},
   "source": [
    "#### Python Script:"
   ]
  },
  {
   "cell_type": "markdown",
   "metadata": {},
   "source": [
    "- The python script is used to simulate the IoT sensors and generate the data.\n",
    "\n",
    "##### To connect to the MQTT Broker:\n",
    "- Start the MQTT Broker on the local machine.\n",
    "- Run the python script to connect to the MQTT Broker.\n",
    "- The python script will publish the data to the MQTT Broker.\n",
    "- Subscribe to the MQTT Broker to receive the data.\n",
    "- Command : `mosquitto_sub -t pto_data -d -h localhost`"
   ]
  },
  {
   "cell_type": "markdown",
   "metadata": {},
   "source": []
  },
  {
   "cell_type": "markdown",
   "metadata": {},
   "source": [
    "##### Packages:"
   ]
  },
  {
   "cell_type": "code",
   "execution_count": null,
   "metadata": {},
   "outputs": [],
   "source": [
    "%pip install pyserial"
   ]
  },
  {
   "cell_type": "markdown",
   "metadata": {},
   "source": [
    "##### Python Script:"
   ]
  },
  {
   "cell_type": "code",
   "execution_count": 9,
   "metadata": {},
   "outputs": [
    {
     "name": "stdout",
     "output_type": "stream",
     "text": [
      "Subscribed to topic: pto_data\n",
      "Received message: {'location': {'latitude': 0, 'longitude': 0}, 'ridership': {'total': 0}}\n",
      "Received message: {'location': {'latitude': 0, 'longitude': 0}, 'ridership': {'total': 0}}\n",
      "Received message: {'location': {'latitude': 0, 'longitude': 0}, 'ridership': {'total': 0}}\n"
     ]
    },
    {
     "ename": "KeyboardInterrupt",
     "evalue": "",
     "output_type": "error",
     "traceback": [
      "\u001b[0;31m---------------------------------------------------------------------------\u001b[0m",
      "\u001b[0;31mKeyboardInterrupt\u001b[0m                         Traceback (most recent call last)",
      "\u001b[1;32m/Users/rahul/Downloads/PTO_IBMProject/Code/IOT_Phase3.ipynb Cell 9\u001b[0m line \u001b[0;36m7\n\u001b[1;32m     <a href='vscode-notebook-cell:/Users/rahul/Downloads/PTO_IBMProject/Code/IOT_Phase3.ipynb#X10sZmlsZQ%3D%3D?line=71'>72</a>\u001b[0m mqtt_client\u001b[39m.\u001b[39msubscribe(topic);\n\u001b[1;32m     <a href='vscode-notebook-cell:/Users/rahul/Downloads/PTO_IBMProject/Code/IOT_Phase3.ipynb#X10sZmlsZQ%3D%3D?line=72'>73</a>\u001b[0m \u001b[39mprint\u001b[39m(\u001b[39m\"\u001b[39m\u001b[39mSubscribed to topic:\u001b[39m\u001b[39m\"\u001b[39m, topic)\n\u001b[0;32m---> <a href='vscode-notebook-cell:/Users/rahul/Downloads/PTO_IBMProject/Code/IOT_Phase3.ipynb#X10sZmlsZQ%3D%3D?line=73'>74</a>\u001b[0m \u001b[39mwhile\u001b[39;00m \u001b[39mTrue\u001b[39;00m:\n\u001b[1;32m     <a href='vscode-notebook-cell:/Users/rahul/Downloads/PTO_IBMProject/Code/IOT_Phase3.ipynb#X10sZmlsZQ%3D%3D?line=74'>75</a>\u001b[0m     mqtt_client\u001b[39m.\u001b[39mloop_start();\n\u001b[1;32m     <a href='vscode-notebook-cell:/Users/rahul/Downloads/PTO_IBMProject/Code/IOT_Phase3.ipynb#X10sZmlsZQ%3D%3D?line=75'>76</a>\u001b[0m     \u001b[39m# mqtt_client.publish(topic, json.dumps(payload))\u001b[39;00m\n\u001b[1;32m     <a href='vscode-notebook-cell:/Users/rahul/Downloads/PTO_IBMProject/Code/IOT_Phase3.ipynb#X10sZmlsZQ%3D%3D?line=76'>77</a>\u001b[0m     \u001b[39m# print(\"Data sent:\", payload)\u001b[39;00m\n",
      "\u001b[0;31mKeyboardInterrupt\u001b[0m: "
     ]
    }
   ],
   "source": [
    "import time\n",
    "import json\n",
    "import paho.mqtt.client as mqtt\n",
    "import serial\n",
    "\n",
    "# Function to get real-time GPS data\n",
    "def get_location_data():\n",
    "    try:\n",
    "        # location_data = {\"latitude\": 1.3521, \"longitude\": 103.8198} # Sample Data\n",
    "        # Open serial port in Arduino\n",
    "        ser = serial.Serial('/dev/cu.usbserial-1440', 9600, timeout=1)\n",
    "        ser.flush()\n",
    "        \n",
    "        # Send request to get GPS data\n",
    "        ser.write(b\"L\")\n",
    "        print(\"Requesting GPS data...\")\n",
    "\n",
    "        # Read GPS data\n",
    "        line = ser.readline().decode('utf-8')\n",
    "        location_data = json.loads(line)[\"location\"]\n",
    "\n",
    "        ser.close()\n",
    "        return location_data\n",
    "    except Exception as e:\n",
    "        print(f\"Error getting location data: {str(e)}\")\n",
    "        return None\n",
    "\n",
    "# Function to retreive ridership data\n",
    "def get_ridership_data():\n",
    "    try:\n",
    "        # ridership_data = {\"in\": 10, \"out\": 5 } # Sample Data\n",
    "        # Open serial port in Arduino\n",
    "        ser = serial.Serial('/dev/cu.usbserial-1440', 9600, timeout=1)\n",
    "        ser.flush()\n",
    "\n",
    "        # Send request to get ridership data\n",
    "        ser.write(b\"R\")\n",
    "        print(\"Requesting ridership data...\")\n",
    "\n",
    "        # Read ridership data\n",
    "        line = ser.readline().decode('utf-8')\n",
    "        ridership_data = json.loads(line)[\"ridership\"]\n",
    "\n",
    "        ser.close()\n",
    "        return ridership_data\n",
    "    except Exception as e:\n",
    "        print(f\"Error getting ridership data: {str(e)}\")\n",
    "        return None\n",
    "    \n",
    "def on_message(client, userdata, message):\n",
    "    d = json.loads(message.payload.decode(\"utf-8\"))\n",
    "    print(\"Received message:\", d)\n",
    "\n",
    "# Initialize MQTT client\n",
    "mqtt_client = mqtt.Client(protocol=mqtt.MQTTv5)\n",
    "mqtt_client.connect(\"192.168.198.179\", 1883)\n",
    "mqtt_client.on_message = on_message\n",
    "\n",
    "while True:\n",
    "    try:\n",
    "        # location_data = get_location_data()\n",
    "        # ridership_data = get_ridership_data()\n",
    "\n",
    "        # if location_data is not None and ridership_data is not None:\n",
    "        #     payload = {\n",
    "        #         \"location\": location_data,\n",
    "        #         \"ridership\": ridership_data\n",
    "        #     }\n",
    "\n",
    "            # Send data to the transit information platform\n",
    "        topic = \"pto_data\"\n",
    "        mqtt_client.subscribe(topic);\n",
    "        print(\"Subscribed to topic:\", topic)\n",
    "        while True:\n",
    "            mqtt_client.loop_start();\n",
    "            # mqtt_client.publish(topic, json.dumps(payload))\n",
    "            # print(\"Data sent:\", payload)\n",
    "\n",
    "    except Exception as e:\n",
    "        print(f\"Error: {str(e)}\")\n",
    "    finally: \n",
    "        mqtt_client.disconnect()\n",
    "\n"
   ]
  }
 ],
 "metadata": {
  "kernelspec": {
   "display_name": "Python 3",
   "language": "python",
   "name": "python3"
  },
  "language_info": {
   "codemirror_mode": {
    "name": "ipython",
    "version": 3
   },
   "file_extension": ".py",
   "mimetype": "text/x-python",
   "name": "python",
   "nbconvert_exporter": "python",
   "pygments_lexer": "ipython3",
   "version": "3.11.6"
  }
 },
 "nbformat": 4,
 "nbformat_minor": 2
}
