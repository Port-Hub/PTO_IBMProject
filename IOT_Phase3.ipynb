{
 "cells": [
  {
   "cell_type": "markdown",
   "metadata": {},
   "source": [
    "#### List of IoT Sensors:\n",
    "\n",
    "- GPS Sensor: To track the real-time location of the vehicle.\n",
    "- Passenger Counting Sensor: To count the number of passengers entering and exiting the vehicle.\n",
    "- Internet Connectivity Module: Cellular or Wi-Fi module to enable communication with the transit information platform."
   ]
  },
  {
   "cell_type": "markdown",
   "metadata": {},
   "source": [
    "#### Python Script:"
   ]
  },
  {
   "cell_type": "markdown",
   "metadata": {},
   "source": [
    "- The python script is used to simulate the IoT sensors and generate the data.\n",
    "\n",
    "##### To connect to the MQTT Broker:\n",
    "- Start the MQTT Broker on the local machine.\n",
    "- Run the python script to connect to the MQTT Broker.\n",
    "- The python script will publish the data to the MQTT Broker.\n",
    "- Subscribe to the MQTT Broker to receive the data.\n",
    "- Command : `mosquitto_sub -t pto_data -d -h localhost`"
   ]
  },
  {
   "cell_type": "markdown",
   "metadata": {},
   "source": [
    "##### Packages:"
   ]
  },
  {
   "cell_type": "code",
   "execution_count": null,
   "metadata": {},
   "outputs": [],
   "source": [
    "%pip install paho-mqtt gps"
   ]
  },
  {
   "cell_type": "markdown",
   "metadata": {},
   "source": [
    "##### Python Script:"
   ]
  },
  {
   "cell_type": "code",
   "execution_count": null,
   "metadata": {},
   "outputs": [],
   "source": [
    "import time\n",
    "import json\n",
    "import paho.mqtt.client as mqtt\n",
    "# import gps \n",
    "\n",
    "# Function to get real-time GPS data\n",
    "def get_location_data():\n",
    "    try:\n",
    "        # session = gps.gps(\"localhost\", \"2947\")\n",
    "        # session.stream(gps.WATCH_ENABLE | gps.WATCH_NEWSTYLE)\n",
    "        # location_data = None\n",
    "        # while True:\n",
    "        #     report = session.next()\n",
    "        #     if report['class'] == 'TPV':\n",
    "        #         latitude = getattr(report, 'lat', 0.0)\n",
    "        #         longitude = getattr(report, 'lon', 0.0)\n",
    "        #         location_data = {\"latitude\": latitude, \"longitude\": longitude}\n",
    "        #         break\n",
    "        location_data = {\"latitude\": 1.3521, \"longitude\": 103.8198} # Sample Data\n",
    "        return location_data\n",
    "    except Exception as e:\n",
    "        print(f\"Error getting location data: {str(e)}\")\n",
    "        return None\n",
    "\n",
    "# Function to simulate ridership data\n",
    "def get_ridership_data():\n",
    "    try:\n",
    "        passengers_in = 5\n",
    "        passengers_out = 2\n",
    "        return {\"in\": passengers_in, \"out\": passengers_out}\n",
    "    except Exception as e:\n",
    "        print(f\"Error getting ridership data: {str(e)}\")\n",
    "        return None\n",
    "\n",
    "# Initialize MQTT client\n",
    "mqtt_client = mqtt.Client(protocol=mqtt.MQTTv5)\n",
    "mqtt_client.connect(\"localhost\", 1883)\n",
    "\n",
    "while True:\n",
    "    try:\n",
    "        location_data = get_location_data()\n",
    "        ridership_data = get_ridership_data()\n",
    "\n",
    "        if location_data is not None and ridership_data is not None:\n",
    "            payload = {\n",
    "                \"location\": location_data,\n",
    "                \"ridership\": ridership_data\n",
    "            }\n",
    "\n",
    "            # Send data to the transit information platform\n",
    "            topic = \"pto_data\"\n",
    "            mqtt_client.publish(topic, json.dumps(payload))\n",
    "            \n",
    "            print(\"Data sent:\", payload)\n",
    "\n",
    "        time.sleep(10)\n",
    "\n",
    "    except Exception as e:\n",
    "        print(f\"Error: {str(e)}\")\n",
    "    finally: \n",
    "        mqtt_client.disconnect()\n",
    "\n"
   ]
  }
 ],
 "metadata": {
  "kernelspec": {
   "display_name": "Python 3",
   "language": "python",
   "name": "python3"
  },
  "language_info": {
   "codemirror_mode": {
    "name": "ipython",
    "version": 3
   },
   "file_extension": ".py",
   "mimetype": "text/x-python",
   "name": "python",
   "nbconvert_exporter": "python",
   "pygments_lexer": "ipython3",
   "version": "3.11.5"
  }
 },
 "nbformat": 4,
 "nbformat_minor": 2
}
